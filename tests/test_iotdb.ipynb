{
 "cells": [
  {
   "cell_type": "code",
   "execution_count": 1,
   "metadata": {},
   "outputs": [],
   "source": [
    "from iotdb.Session import Session"
   ]
  },
  {
   "cell_type": "code",
   "execution_count": 2,
   "metadata": {},
   "outputs": [],
   "source": [
    "ip = \"172.16.32.226\"\n",
    "port_ = \"6667\"\n",
    "username_ = \"root\"\n",
    "password_ = \"root\""
   ]
  },
  {
   "cell_type": "code",
   "execution_count": 3,
   "metadata": {},
   "outputs": [],
   "source": [
    "session = Session(ip, port_, username_, password_)"
   ]
  },
  {
   "cell_type": "code",
   "execution_count": 4,
   "metadata": {},
   "outputs": [],
   "source": [
    "session.open(False)"
   ]
  },
  {
   "cell_type": "code",
   "execution_count": 5,
   "metadata": {},
   "outputs": [],
   "source": [
    "zone = session.get_time_zone()"
   ]
  },
  {
   "cell_type": "code",
   "execution_count": 6,
   "metadata": {},
   "outputs": [],
   "source": [
    "sql = \"select p1,p2,p3 from root.iot_device_BIT_fan.ycfjA where time >= 1676541007620  and time <= 1676541017636 order by time desc limit 10\""
   ]
  },
  {
   "cell_type": "code",
   "execution_count": 7,
   "metadata": {},
   "outputs": [],
   "source": [
    "result = session.execute_query_statement(sql)"
   ]
  },
  {
   "cell_type": "code",
   "execution_count": 8,
   "metadata": {},
   "outputs": [],
   "source": [
    "df = result.todf()"
   ]
  },
  {
   "cell_type": "code",
   "execution_count": 9,
   "metadata": {},
   "outputs": [],
   "source": [
    "df['Time'] = df['Time'].map(lambda x: int(x/1000))"
   ]
  },
  {
   "cell_type": "code",
   "execution_count": 12,
   "metadata": {},
   "outputs": [
    {
     "data": {
      "text/html": [
       "<div>\n",
       "<style scoped>\n",
       "    .dataframe tbody tr th:only-of-type {\n",
       "        vertical-align: middle;\n",
       "    }\n",
       "\n",
       "    .dataframe tbody tr th {\n",
       "        vertical-align: top;\n",
       "    }\n",
       "\n",
       "    .dataframe thead th {\n",
       "        text-align: right;\n",
       "    }\n",
       "</style>\n",
       "<table border=\"1\" class=\"dataframe\">\n",
       "  <thead>\n",
       "    <tr style=\"text-align: right;\">\n",
       "      <th></th>\n",
       "      <th>Time</th>\n",
       "      <th>root.iot_device_BIT_fan.ycfjA.p1</th>\n",
       "      <th>root.iot_device_BIT_fan.ycfjA.p2</th>\n",
       "      <th>root.iot_device_BIT_fan.ycfjA.p3</th>\n",
       "    </tr>\n",
       "  </thead>\n",
       "  <tbody>\n",
       "    <tr>\n",
       "      <th>0</th>\n",
       "      <td>1676541017</td>\n",
       "      <td>148.3</td>\n",
       "      <td>696.2</td>\n",
       "      <td>627.0</td>\n",
       "    </tr>\n",
       "    <tr>\n",
       "      <th>1</th>\n",
       "      <td>1676541012</td>\n",
       "      <td>NaN</td>\n",
       "      <td>640.9</td>\n",
       "      <td>659.0</td>\n",
       "    </tr>\n",
       "    <tr>\n",
       "      <th>2</th>\n",
       "      <td>1676541012</td>\n",
       "      <td>143.2</td>\n",
       "      <td>NaN</td>\n",
       "      <td>NaN</td>\n",
       "    </tr>\n",
       "    <tr>\n",
       "      <th>3</th>\n",
       "      <td>1676541007</td>\n",
       "      <td>146.5</td>\n",
       "      <td>644.0</td>\n",
       "      <td>664.1</td>\n",
       "    </tr>\n",
       "  </tbody>\n",
       "</table>\n",
       "</div>"
      ],
      "text/plain": [
       "         Time  root.iot_device_BIT_fan.ycfjA.p1  \\\n",
       "0  1676541017                             148.3   \n",
       "1  1676541012                               NaN   \n",
       "2  1676541012                             143.2   \n",
       "3  1676541007                             146.5   \n",
       "\n",
       "   root.iot_device_BIT_fan.ycfjA.p2  root.iot_device_BIT_fan.ycfjA.p3  \n",
       "0                             696.2                             627.0  \n",
       "1                             640.9                             659.0  \n",
       "2                               NaN                               NaN  \n",
       "3                             644.0                             664.1  "
      ]
     },
     "execution_count": 12,
     "metadata": {},
     "output_type": "execute_result"
    }
   ],
   "source": [
    "df"
   ]
  },
  {
   "cell_type": "code",
   "execution_count": 72,
   "metadata": {},
   "outputs": [
    {
     "data": {
      "text/html": [
       "<div>\n",
       "<style scoped>\n",
       "    .dataframe tbody tr th:only-of-type {\n",
       "        vertical-align: middle;\n",
       "    }\n",
       "\n",
       "    .dataframe tbody tr th {\n",
       "        vertical-align: top;\n",
       "    }\n",
       "\n",
       "    .dataframe thead th {\n",
       "        text-align: right;\n",
       "    }\n",
       "</style>\n",
       "<table border=\"1\" class=\"dataframe\">\n",
       "  <thead>\n",
       "    <tr style=\"text-align: right;\">\n",
       "      <th></th>\n",
       "      <th>Time</th>\n",
       "      <th>root.iot_device_BIT_fan.ycfjA.p1</th>\n",
       "      <th>root.iot_device_BIT_fan.ycfjA.p2</th>\n",
       "      <th>root.iot_device_BIT_fan.ycfjA.p3</th>\n",
       "    </tr>\n",
       "  </thead>\n",
       "  <tbody>\n",
       "    <tr>\n",
       "      <th>0</th>\n",
       "      <td>1676541007</td>\n",
       "      <td>146.5</td>\n",
       "      <td>644.0</td>\n",
       "      <td>664.1</td>\n",
       "    </tr>\n",
       "    <tr>\n",
       "      <th>1</th>\n",
       "      <td>1676541012</td>\n",
       "      <td>143.2</td>\n",
       "      <td>640.9</td>\n",
       "      <td>659.0</td>\n",
       "    </tr>\n",
       "    <tr>\n",
       "      <th>2</th>\n",
       "      <td>1676541017</td>\n",
       "      <td>148.3</td>\n",
       "      <td>696.2</td>\n",
       "      <td>627.0</td>\n",
       "    </tr>\n",
       "  </tbody>\n",
       "</table>\n",
       "</div>"
      ],
      "text/plain": [
       "         Time  root.iot_device_BIT_fan.ycfjA.p1  \\\n",
       "0  1676541007                             146.5   \n",
       "1  1676541012                             143.2   \n",
       "2  1676541017                             148.3   \n",
       "\n",
       "   root.iot_device_BIT_fan.ycfjA.p2  root.iot_device_BIT_fan.ycfjA.p3  \n",
       "0                             644.0                             664.1  \n",
       "1                             640.9                             659.0  \n",
       "2                             696.2                             627.0  "
      ]
     },
     "execution_count": 72,
     "metadata": {},
     "output_type": "execute_result"
    }
   ],
   "source": [
    "df.groupby('Time').first().reset_index()"
   ]
  }
 ],
 "metadata": {
  "kernelspec": {
   "display_name": "Python 3.9.16 ('mlapi')",
   "language": "python",
   "name": "python3"
  },
  "language_info": {
   "codemirror_mode": {
    "name": "ipython",
    "version": 3
   },
   "file_extension": ".py",
   "mimetype": "text/x-python",
   "name": "python",
   "nbconvert_exporter": "python",
   "pygments_lexer": "ipython3",
   "version": "3.9.16"
  },
  "orig_nbformat": 4,
  "vscode": {
   "interpreter": {
    "hash": "f8b111fdc4f82ad2c018ab2dae5117af2ddf5941f32c8ab6622a0ac699a09790"
   }
  }
 },
 "nbformat": 4,
 "nbformat_minor": 2
}
